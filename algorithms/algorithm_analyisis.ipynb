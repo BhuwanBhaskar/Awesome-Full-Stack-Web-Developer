{
 "cells": [
  {
   "cell_type": "markdown",
   "metadata": {
    "button": false,
    "new_sheet": false,
    "run_control": {
     "read_only": false
    }
   },
   "source": [
    "# 2. Algorithm Analysis"
   ]
  },
  {
   "cell_type": "markdown",
   "metadata": {},
   "source": [
    "#### [Book URL](https://interactivepython.org/runestone/static/pythonds/index.html)"
   ]
  },
  {
   "cell_type": "markdown",
   "metadata": {
    "button": false,
    "new_sheet": false,
    "run_control": {
     "read_only": false
    }
   },
   "source": [
    "## 2.2. What Is Algorithm Analysis?"
   ]
  },
  {
   "cell_type": "code",
   "execution_count": 3,
   "metadata": {
    "button": false,
    "new_sheet": false,
    "run_control": {
     "read_only": false
    }
   },
   "outputs": [
    {
     "name": "stdout",
     "output_type": "stream",
     "text": [
      "Sum is 500000500000 required  0.1758540 seconds\n",
      "Sum is 500000500000 required  0.1900620 seconds\n",
      "Sum is 500000500000 required  0.1335070 seconds\n",
      "Sum is 500000500000 required  0.1104770 seconds\n",
      "Sum is 500000500000 required  0.1154571 seconds\n"
     ]
    }
   ],
   "source": [
    "import time\n",
    "\n",
    "def sumOfN(n):\n",
    "   start = time.time()\n",
    "\n",
    "   theSum = 0\n",
    "   for i in range(1,n+1):\n",
    "      theSum = theSum + i\n",
    "\n",
    "   end = time.time()\n",
    "\n",
    "   return theSum,end-start\n",
    "\n",
    "for i in range(5):\n",
    "       print(\"Sum is %d required %10.7f seconds\"%sumOfN(1000000))"
   ]
  },
  {
   "cell_type": "markdown",
   "metadata": {
    "button": false,
    "new_sheet": false,
    "run_control": {
     "read_only": false
    }
   },
   "source": [
    "## 2.3. Big-O Notation"
   ]
  },
  {
   "cell_type": "markdown",
   "metadata": {
    "button": false,
    "collapsed": true,
    "new_sheet": false,
    "run_control": {
     "read_only": false
    }
   },
   "source": [
    "**  The order of magnitude function describes the part of T(n) that increases the fastest as the value of n increases. Order of magnitude is often called Big-O notation (for “order”) and written as O(f(n)).**"
   ]
  },
  {
   "cell_type": "markdown",
   "metadata": {
    "button": false,
    "new_sheet": false,
    "run_control": {
     "read_only": false
    }
   },
   "source": [
    "** It provides a useful approximation to the actual number of steps in the computation. The function f(n) provides a simple representation of the dominant part of the original T(n).**"
   ]
  },
  {
   "cell_type": "markdown",
   "metadata": {
    "button": false,
    "new_sheet": false,
    "run_control": {
     "read_only": false
    }
   },
   "source": [
    "- The parameter n is often referred to as the “size of the problem,” and we can read this as “T(n) is the time it takes to solve a problem of size n” "
   ]
  },
  {
   "cell_type": "markdown",
   "metadata": {
    "button": false,
    "new_sheet": false,
    "run_control": {
     "read_only": false
    }
   },
   "source": [
    "As another example, suppose that for some algorithm, the exact number of steps is\n",
    "\n",
    "**T(n)=5nˆ2+27n+1005**\n",
    "\n",
    "When n is small, say 1 or 2, the constant 1005 seems to be the dominant part of the function. However, as n gets larger, the nˆ2 term becomes the most important.\n",
    "\n",
    "In fact, when n is really large, the other two terms become insignificant in the role that they play in determining the final result\n",
    "\n",
    "Again, to approximate T(n) as n gets large, we can ignore the other terms and focus on 5nˆ2.\n",
    "\n",
    "In addition, the coefficient 5 becomes insignificant as n gets large. \n",
    "\n",
    "We would say then that the function T(n) has an order of magnitude **f(n)=n2**, or simply that it is **O(n2)**."
   ]
  },
  {
   "cell_type": "markdown",
   "metadata": {
    "button": false,
    "new_sheet": false,
    "run_control": {
     "read_only": false
    }
   },
   "source": [
    "- Although we do not see this in the summation example, sometimes the performance of an algorithm depends on the exact values of the data rather than simply the size of the problem.\n",
    "- For these kinds of algorithms we need to characterize their performance in terms of **best case**, **worst case**, or **average case** performance. \n",
    "- The worst case performance refers to a particular data set where the algorithm performs especially poorly. Whereas a different data set for the exact same algorithm might have extraordinarily good performance. However, in most cases the algorithm performs somewhere in between these two extremes (average case). It is important for a computer scientist to understand these distinctions so they are not misled by one particular case."
   ]
  },
  {
   "cell_type": "markdown",
   "metadata": {
    "button": false,
    "new_sheet": false,
    "run_control": {
     "read_only": false
    }
   },
   "source": [
    "- ** A number of very common order of magnitude functions will come up over and over as you study algorithms **"
   ]
  },
  {
   "cell_type": "markdown",
   "metadata": {
    "button": false,
    "new_sheet": false,
    "run_control": {
     "read_only": false
    }
   },
   "source": [
    "| **f(n)** | **Name** |\n",
    "| --- | --- |\n",
    "| 1 | Constant |\n",
    "| log⁡ n | Logarithmic |\n",
    "|n|Linear|\n",
    "|n log n|Log Linear|\n",
    "|nˆ2|Quadratic|\n",
    "|nˆ3|Cubic|\n",
    "|2ˆn|Exponential|"
   ]
  },
  {
   "cell_type": "code",
   "execution_count": 12,
   "metadata": {
    "button": false,
    "new_sheet": false,
    "run_control": {
     "read_only": false
    }
   },
   "outputs": [
    {
     "data": {
      "image/png": "[encoded data removed]",
      "text/plain": [
       "<matplotlib.figure.Figure at 0x107857e80>"
      ]
     },
     "metadata": {},
     "output_type": "display_data"
    }
   ],
   "source": [
    "import matplotlib.pyplot as plt\n",
    "import math\n",
    "\n",
    "n = 11\n",
    "\n",
    "x = list(range(1,n))\n",
    "\n",
    "linear = [x for x in range(1, n)]\n",
    "Quadratic = [x**2 for x in range(1, n)]\n",
    "LogLinear = [x * math.log(x) for x in range(1, n)]\n",
    "Cubic = [x**3 for x in range(1, n)]\n",
    "Exponential = [2**x for x in range(1, n)]\n",
    "logarithmic = [math.log(x) for x in range(1, n)]\n",
    "\n",
    "plt.plot(x, linear,'k--', label='linear')\n",
    "plt.plot(x, Quadratic, 'k:', label='Quadratic')\n",
    "plt.plot(x, LogLinear, 'y', label='LogLinear')\n",
    "plt.plot(x, Cubic, 'b', label='Cubic')\n",
    "plt.plot(x, Exponential, 'r', label='Exponential')\n",
    "plt.plot(x, logarithmic, 'g', label='logarithmic')\n",
    "    \n",
    "legend = plt.legend(shadow=True)\n",
    "\n",
    "plt.grid(True)\n",
    "plt.show()"
   ]
  },
  {
   "cell_type": "code",
   "execution_count": 13,
   "metadata": {
    "button": false,
    "collapsed": true,
    "new_sheet": false,
    "run_control": {
     "read_only": false
    }
   },
   "outputs": [],
   "source": [
    "a=5\n",
    "b=6\n",
    "c=10\n",
    "n = 100\n",
    "for i in range(n):\n",
    "   for j in range(n):\n",
    "      x = i * i\n",
    "      y = j * j\n",
    "      z = i * j\n",
    "for k in range(n):\n",
    "   w = a*k + 45\n",
    "   v = b*b\n",
    "d = 33"
   ]
  },
  {
   "cell_type": "markdown",
   "metadata": {
    "button": false,
    "new_sheet": false,
    "run_control": {
     "read_only": false
    }
   },
   "source": [
    "The number of assignment operations is the sum of four terms.\n",
    "- The first term is the constant 3, representing the three assignment statements at the start of the fragment. \n",
    "- The second term is 3nˆ2, since there are three statements that are performed nˆ2 times due to the nested iteration.\n",
    "- The third term is 2n, two statements iterated n times. \n",
    "- Finally, the fourth term is the constant 1, representing the final assignment statement. \n",
    "\n",
    "** This gives us T(n)=3+3n2+2n+1=3nˆ2+2n+4.**\n",
    "- By looking at the exponents, we can easily see that the n2 term will be dominant and therefore this fragment of code is **O(n2)**. \n",
    "- Note that all of the other terms as well as the coefficient on the dominant term can be ignored as n grows larger."
   ]
  },
  {
   "cell_type": "markdown",
   "metadata": {
    "button": false,
    "collapsed": true,
    "new_sheet": false,
    "run_control": {
     "read_only": false
    }
   },
   "source": [
    "## 2.6. Lists"
   ]
  },
  {
   "cell_type": "code",
   "execution_count": 14,
   "metadata": {
    "button": false,
    "new_sheet": false,
    "run_control": {
     "read_only": false
    }
   },
   "outputs": [
    {
     "name": "stdout",
     "output_type": "stream",
     "text": [
      "concat  2.258772683002462 milliseconds\n",
      "append  0.15120430599927204 milliseconds\n",
      "comprehension  0.06961311700433725 milliseconds\n",
      "list range  0.04029222999815829 milliseconds\n"
     ]
    }
   ],
   "source": [
    "import timeit\n",
    "\n",
    "def test1():\n",
    "    l = []\n",
    "    for i in range(1000):\n",
    "        l = l + [i]\n",
    "\n",
    "def test2():\n",
    "    l = []\n",
    "    for i in range(1000):\n",
    "        l.append(i)\n",
    "\n",
    "def test3():\n",
    "    l = [i for i in range(1000)]\n",
    "\n",
    "def test4():\n",
    "    l = list(range(1000))\n",
    "\n",
    "t1 = timeit.Timer(\"test1()\", \"from __main__ import test1\")\n",
    "print(\"concat \",t1.timeit(number=1000), \"milliseconds\")\n",
    "t2 = timeit.Timer(\"test2()\", \"from __main__ import test2\")\n",
    "print(\"append \",t2.timeit(number=1000), \"milliseconds\")\n",
    "t3 = timeit.Timer(\"test3()\", \"from __main__ import test3\")\n",
    "print(\"comprehension \",t3.timeit(number=1000), \"milliseconds\")\n",
    "t4 = timeit.Timer(\"test4()\", \"from __main__ import test4\")\n",
    "print(\"list range \",t4.timeit(number=1000), \"milliseconds\")\n",
    "    \n",
    "    "
   ]
  },
  {
   "cell_type": "markdown",
   "metadata": {
    "button": false,
    "new_sheet": false,
    "run_control": {
     "read_only": false
    }
   },
   "source": [
    "### Big-O efficiency of all the basic list operations.\n",
    "\n",
    "| Operation | Big-O Efficiency |\n",
    "| --- | --- |\n",
    "| index [] | O(1) |\n",
    "| index assignment | O(1) |\n",
    "| append | O(1) |\n",
    "| pop() | O(1) |\n",
    "| pop(i) | O(n) |\n",
    "| insert(i,item) | O(n) |\n",
    "| del operator | O(n) |\n",
    "| iteration | O(n) |\n",
    "| contains (in) | O(n) |\n",
    "| get slice [x:y] | O(k) |\n",
    "| del slice | O(n) |\n",
    "| set slice | O(n+k) |\n",
    "| reverse | O(n) |\n",
    "| concatenate | O(k) |\n",
    "| sort | O(n log n) |\n",
    "| multiply | O(nk) |"
   ]
  },
  {
   "cell_type": "code",
   "execution_count": 15,
   "metadata": {
    "button": false,
    "new_sheet": false,
    "run_control": {
     "read_only": false
    }
   },
   "outputs": [
    {
     "name": "stdout",
     "output_type": "stream",
     "text": [
      "2.465543024998624\n",
      "0.0001711369986878708\n"
     ]
    }
   ],
   "source": [
    "popzero = timeit.Timer(\"x.pop(0)\",\n",
    "                       \"from __main__ import x\")\n",
    "popend = timeit.Timer(\"x.pop()\",\n",
    "                      \"from __main__ import x\")\n",
    "\n",
    "x = list(range(2000000))\n",
    "print(popzero.timeit(number=1000))\n",
    "\n",
    "x = list(range(2000000))\n",
    "print(popend.timeit(number=1000))\n"
   ]
  },
  {
   "cell_type": "markdown",
   "metadata": {
    "button": false,
    "new_sheet": false,
    "run_control": {
     "read_only": false
    }
   },
   "source": [
    "### 2.7. Dictionaries"
   ]
  },
  {
   "cell_type": "markdown",
   "metadata": {
    "button": false,
    "new_sheet": false,
    "run_control": {
     "read_only": false
    }
   },
   "source": [
    "| operation | Big-O Efficiency |\n",
    "| --- | --- |\n",
    "| copy | O(n) |\n",
    "| get item | O(1) |\n",
    "| set item | O(1) |\n",
    "| delete item | O(1) |\n",
    "| contains (in) | O(1) |\n",
    "| iteration | O(n) |"
   ]
  },
  {
   "cell_type": "markdown",
   "metadata": {},
   "source": [
    "#### Comparing Dictionary time with list time"
   ]
  },
  {
   "cell_type": "code",
   "execution_count": 16,
   "metadata": {
    "button": false,
    "new_sheet": false,
    "run_control": {
     "read_only": false
    }
   },
   "outputs": [
    {
     "name": "stdout",
     "output_type": "stream",
     "text": [
      "10000,     0.189,     0.002\n",
      "30000,     0.442,     0.002\n",
      "50000,     0.626,     0.004\n",
      "70000,     1.240,     0.002\n",
      "90000,     1.313,     0.002\n",
      "110000,     1.457,     0.002\n",
      "130000,     1.795,     0.002\n",
      "150000,     2.015,     0.002\n",
      "170000,     2.436,     0.002\n",
      "190000,     2.524,     0.002\n",
      "210000,     2.706,     0.002\n",
      "230000,     3.028,     0.002\n",
      "250000,     3.242,     0.003\n",
      "270000,     3.386,     0.002\n",
      "290000,     3.668,     0.007\n",
      "310000,     4.059,     0.003\n",
      "330000,     4.082,     0.002\n",
      "350000,     4.089,     0.003\n",
      "370000,     4.957,     0.002\n",
      "390000,     5.160,     0.002\n",
      "410000,     5.023,     0.010\n",
      "430000,     5.368,     0.003\n",
      "450000,     5.930,     0.002\n",
      "470000,     6.128,     0.002\n",
      "490000,     6.105,     0.002\n",
      "510000,     8.307,     0.003\n",
      "530000,     7.444,     0.002\n",
      "550000,     6.726,     0.002\n",
      "570000,     8.511,     0.003\n",
      "590000,     8.130,     0.003\n",
      "610000,     7.316,     0.002\n",
      "630000,     7.886,     0.002\n",
      "650000,     7.947,     0.002\n",
      "670000,     8.214,     0.003\n",
      "690000,     8.577,     0.002\n",
      "710000,    11.211,     0.003\n",
      "730000,    14.261,     0.003\n",
      "750000,    10.711,     0.003\n",
      "770000,    12.565,     0.002\n",
      "790000,    11.537,     0.002\n",
      "810000,    12.884,     0.003\n",
      "830000,    11.781,     0.002\n",
      "850000,    10.902,     0.003\n",
      "870000,    12.310,     0.002\n",
      "890000,    12.671,     0.002\n",
      "910000,    11.249,     0.002\n",
      "930000,    11.611,     0.003\n",
      "950000,    11.475,     0.003\n",
      "970000,    13.233,     0.003\n",
      "990000,    13.667,     0.003\n"
     ]
    }
   ],
   "source": [
    "import timeit\n",
    "import random\n",
    "\n",
    "for i in range(10000,1000001,20000):\n",
    "    t = timeit.Timer(\"random.randrange(%d) in x\" % i,\n",
    "                     \"from __main__ import random, x\")\n",
    "    x = list(range(i))\n",
    "    lst_time = t.timeit(number=1000)\n",
    "    x = {j:None for j in range(i)}\n",
    "    d_time = t.timeit(number=1000)\n",
    "    print(\"%d,%10.3f,%10.3f\" % (i, lst_time, d_time))"
   ]
  },
  {
   "cell_type": "code",
   "execution_count": null,
   "metadata": {
    "collapsed": true
   },
   "outputs": [],
   "source": []
  }
 ],
 "metadata": {
  "kernelspec": {
   "display_name": "Python 3",
   "language": "python",
   "name": "python3"
  },
  "language_info": {
   "codemirror_mode": {
    "name": "ipython",
    "version": 3
   },
   "file_extension": ".py",
   "mimetype": "text/x-python",
   "name": "python",
   "nbconvert_exporter": "python",
   "pygments_lexer": "ipython3",
   "version": "3.6.0"
  }
 },
 "nbformat": 4,
 "nbformat_minor": 1
}
