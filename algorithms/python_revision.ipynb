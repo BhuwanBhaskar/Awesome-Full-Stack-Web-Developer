{
 "cells": [
  {
   "cell_type": "markdown",
   "metadata": {
    "button": false,
    "new_sheet": false,
    "run_control": {
     "read_only": false
    }
   },
   "source": [
    "# Python Quick Revision"
   ]
  },
  {
   "cell_type": "markdown",
   "metadata": {
    "button": false,
    "new_sheet": false,
    "run_control": {
     "read_only": false
    }
   },
   "source": [
    "#### [Book URL](https://interactivepython.org/runestone/static/pythonds/index.html)"
   ]
  },
  {
   "cell_type": "markdown",
   "metadata": {
    "button": false,
    "new_sheet": false,
    "run_control": {
     "read_only": false
    }
   },
   "source": [
    "## 1.8. Getting Started with Data"
   ]
  },
  {
   "cell_type": "code",
   "execution_count": 1,
   "metadata": {
    "button": false,
    "new_sheet": false,
    "run_control": {
     "read_only": false
    }
   },
   "outputs": [
    {
     "name": "stdout",
     "output_type": "stream",
     "text": [
      "1024\n",
      "1267650600228229401496703205376\n",
      "2\n",
      "2.3333333333333335\n",
      "1\n"
     ]
    }
   ],
   "source": [
    "print(2 ** 10)\n",
    "print(2 ** 100)\n",
    "print(7 // 3)\n",
    "print(7 / 3)\n",
    "print(7 % 3)"
   ]
  },
  {
   "cell_type": "markdown",
   "metadata": {
    "button": false,
    "new_sheet": false,
    "run_control": {
     "read_only": false
    }
   },
   "source": [
    "### 1.8.2. Built-in Collection Data Types"
   ]
  },
  {
   "cell_type": "markdown",
   "metadata": {
    "button": false,
    "new_sheet": false,
    "run_control": {
     "read_only": false
    }
   },
   "source": [
    "### 1. lists"
   ]
  },
  {
   "cell_type": "markdown",
   "metadata": {
    "button": false,
    "new_sheet": false,
    "run_control": {
     "read_only": false
    }
   },
   "source": [
    "** Lists are heterogeneous, meaning that the data objects need not all be from the same class and the collection can be assigned to a variable as below. **"
   ]
  },
  {
   "cell_type": "markdown",
   "metadata": {
    "button": false,
    "new_sheet": false,
    "run_control": {
     "read_only": false
    }
   },
   "source": [
    "| **Operation Name** | **Operator** | **Explanation** |\n",
    "| --- | --- | --- |\n",
    "| indexing | [ ] | Access an element of a sequence |\n",
    "| concatenation | + | Combine sequences together |\n",
    "| repetition | * | Concatenate a repeated number of times |\n",
    "| membership | in | Ask whether an item is in a sequence |\n",
    "| length | len | Ask the number of items in the sequence |\n",
    "| slicing | [ : ] | Extract a part of a sequence |"
   ]
  },
  {
   "cell_type": "code",
   "execution_count": 2,
   "metadata": {
    "button": false,
    "new_sheet": false,
    "run_control": {
     "read_only": false
    }
   },
   "outputs": [
    {
     "name": "stdout",
     "output_type": "stream",
     "text": [
      "['str', 12, True, 1.232]\n",
      "[[1, 2, 3, 4], [1, 2, 3, 4], [1, 2, 3, 4]]\n",
      "[[1, 2, 45454545, 4], [1, 2, 45454545, 4], [1, 2, 45454545, 4]]\n"
     ]
    }
   ],
   "source": [
    "fakeList = ['str', 12, True, 1.232] # heterogeneous\n",
    "print(fakeList)\n",
    "myList = [1,2,3,4]\n",
    "A = [myList] * 3\n",
    "print(A)\n",
    "myList[2]=45454545\n",
    "print(A)"
   ]
  },
  {
   "cell_type": "markdown",
   "metadata": {
    "button": false,
    "new_sheet": false,
    "run_control": {
     "read_only": false
    }
   },
   "source": [
    "| **Method Name** | **Use** | **Explanation** |\n",
    "| --- | --- | --- |\n",
    "| ` append ` | ` alist.append(item) ` | Adds a new item to the end of a list |\n",
    "| ` insert ` | ` alist.insert(i,item) ` | Inserts an item at the ith position in a list |\n",
    "| ` pop ` | ` alist.pop() ` | Removes and returns the last item in a list |\n",
    "| ` pop ` | ` alist.pop(i) ` | Removes and returns the ith item in a list |\n",
    "| ` sort ` | ` alist.sort() ` | Modifies a list to be sorted |\n",
    "| ` reverse ` | ` alist.reverse() ` | Modifies a list to be in reverse order |\n",
    "| ` del ` | ` del alist[i] ` | Deletes the item in the ith position |\n",
    "| ` index ` | ` alist.index(item) ` | Returns the index of the first occurrence of ` item ` |\n",
    "| ` count ` | ` alist.count(item) ` | Returns the number of occurrences of ` item ` |\n",
    "| ` remove ` | ` alist.remove(item) ` | Removes the first occurrence of ` item ` |"
   ]
  },
  {
   "cell_type": "code",
   "execution_count": 3,
   "metadata": {
    "button": false,
    "new_sheet": false,
    "run_control": {
     "read_only": false
    }
   },
   "outputs": [
    {
     "name": "stdout",
     "output_type": "stream",
     "text": [
      "[1024, 3, True, 6.5, False]\n",
      "[1024, 3, 4.5, True, 6.5, False]\n",
      "False\n",
      "[1024, 3, 4.5, True, 6.5]\n",
      "3\n",
      "[1024, 4.5, True, 6.5]\n",
      "[1024, 4.5, 6.5]\n",
      "[4.5, 6.5, 1024]\n",
      "[1024, 6.5, 4.5]\n",
      "1\n",
      "2\n",
      "[1024, 4.5]\n",
      "[4.5]\n"
     ]
    }
   ],
   "source": [
    "myList = [1024, 3, True, 6.5]\n",
    "myList.append(False)\n",
    "print(myList)\n",
    "myList.insert(2,4.5)\n",
    "print(myList)\n",
    "print(myList.pop())\n",
    "print(myList)\n",
    "print(myList.pop(1))\n",
    "print(myList)\n",
    "myList.pop(2)\n",
    "print(myList)\n",
    "myList.sort()\n",
    "print(myList)\n",
    "myList.reverse()\n",
    "print(myList)\n",
    "print(myList.count(6.5))\n",
    "print(myList.index(4.5))\n",
    "myList.remove(6.5)\n",
    "print(myList)\n",
    "del myList[0]\n",
    "print(myList)"
   ]
  },
  {
   "cell_type": "code",
   "execution_count": 4,
   "metadata": {
    "button": false,
    "new_sheet": false,
    "run_control": {
     "read_only": false
    }
   },
   "outputs": [
    {
     "name": "stdout",
     "output_type": "stream",
     "text": [
      "[0, 1, 2, 3, 4, 5, 6, 7, 8, 9]\n",
      "[5, 6, 7, 8, 9]\n",
      "[5, 7, 9]\n",
      "[10, 9, 8, 7, 6, 5, 4, 3, 2]\n"
     ]
    }
   ],
   "source": [
    "print(list(range(10)))\n",
    "print(list(range(5,10)))\n",
    "print(list(range(5,10,2)))\n",
    "print(list(range(10,1,-1)))"
   ]
  },
  {
   "cell_type": "markdown",
   "metadata": {
    "button": false,
    "new_sheet": false,
    "run_control": {
     "read_only": false
    }
   },
   "source": [
    "### 2. Strings"
   ]
  },
  {
   "cell_type": "markdown",
   "metadata": {
    "button": false,
    "new_sheet": false,
    "run_control": {
     "read_only": false
    }
   },
   "source": [
    "| **Method Name** | **Use** | **Explanation** |\n",
    "| --- | --- | --- |\n",
    "| `  center  ` | `  astring.center(w)  ` | Returns a string centered in a field of size `  w  ` |\n",
    "| `  count  ` | `  astring.count(item)  ` | Returns the number of occurrences of `  item  ` in the string |\n",
    "| `  ljust  ` | `  astring.ljust(w)  ` | Returns a string left-justified in a field of size `  w  ` |\n",
    "| `  lower  ` | `  astring.lower()  ` | Returns a string in all lowercase |\n",
    "| `  rjust  ` | `  astring.rjust(w)  ` | Returns a string right-justified in a field of size `  w  ` |\n",
    "| `  find  ` | `  astring.find(item)  ` | Returns the index of the first occurrence of `  item  ` |\n",
    "| `  split  ` | `  astring.split(schar)  ` | Splits a string into substrings at `  schar  ` |"
   ]
  },
  {
   "cell_type": "code",
   "execution_count": 5,
   "metadata": {
    "button": false,
    "new_sheet": false,
    "run_control": {
     "read_only": false
    }
   },
   "outputs": [
    {
     "name": "stdout",
     "output_type": "stream",
     "text": [
      "i\n",
      "DavidDavid\n",
      "5\n",
      "DAVID\n",
      ".  David   .\n",
      ".David     .\n",
      ".     David.\n",
      "2\n",
      "['Da', 'id']\n"
     ]
    }
   ],
   "source": [
    "myName= \"David\"\n",
    "print(myName[3])\n",
    "print(myName * 2)\n",
    "print(len(myName))\n",
    "print(myName.upper())\n",
    "print('.' + myName.center(10) + '.')\n",
    "print('.' + myName.ljust(10) + '.')\n",
    "print('.' + myName.rjust(10) + '.')\n",
    "print(myName.find('v'))\n",
    "print(myName.split('v'))"
   ]
  },
  {
   "cell_type": "markdown",
   "metadata": {
    "button": false,
    "new_sheet": false,
    "run_control": {
     "read_only": false
    }
   },
   "source": [
    " ** A major difference between lists and strings is that lists can be modified while strings cannot. This is referred to as mutability. Lists are mutable; strings are immutable. For example, you can change an item in a list by using indexing and assignment. With a string that change is not allowed. **"
   ]
  },
  {
   "cell_type": "markdown",
   "metadata": {
    "button": false,
    "new_sheet": false,
    "run_control": {
     "read_only": false
    }
   },
   "source": [
    "### 3. Tuples"
   ]
  },
  {
   "cell_type": "markdown",
   "metadata": {
    "button": false,
    "new_sheet": false,
    "run_control": {
     "read_only": false
    }
   },
   "source": [
    "** Tuples are very similar to lists in that they are heterogeneous sequences of data. The difference is that a tuple is immutable, like a string. A tuple cannot be changed.  **"
   ]
  },
  {
   "cell_type": "code",
   "execution_count": 6,
   "metadata": {
    "button": false,
    "new_sheet": false,
    "run_control": {
     "read_only": false
    }
   },
   "outputs": [
    {
     "name": "stdout",
     "output_type": "stream",
     "text": [
      "(2, True, 4.96)\n",
      "3\n"
     ]
    }
   ],
   "source": [
    "myTuple = (2,True,4.96)\n",
    "print(myTuple)\n",
    "print(len(myTuple))"
   ]
  },
  {
   "cell_type": "markdown",
   "metadata": {
    "button": false,
    "new_sheet": false,
    "run_control": {
     "read_only": false
    }
   },
   "source": [
    "**However, if you try to change an item in a tuple, you will get an error. Note that the error message provides location and reason for the problem.**"
   ]
  },
  {
   "cell_type": "code",
   "execution_count": 7,
   "metadata": {
    "button": false,
    "new_sheet": false,
    "run_control": {
     "read_only": false
    }
   },
   "outputs": [
    {
     "ename": "TypeError",
     "evalue": "'tuple' object does not support item assignment",
     "output_type": "error",
     "traceback": [
      "\u001b[0;31m---------------------------------------------------------------------------\u001b[0m",
      "\u001b[0;31mTypeError\u001b[0m                                 Traceback (most recent call last)",
      "\u001b[0;32m<ipython-input-7-85d8da7d0711>\u001b[0m in \u001b[0;36m<module>\u001b[0;34m()\u001b[0m\n\u001b[0;32m----> 1\u001b[0;31m \u001b[0mmyTuple\u001b[0m\u001b[0;34m[\u001b[0m\u001b[0;36m1\u001b[0m\u001b[0;34m]\u001b[0m\u001b[0;34m=\u001b[0m\u001b[0;32mFalse\u001b[0m\u001b[0;34m\u001b[0m\u001b[0m\n\u001b[0m",
      "\u001b[0;31mTypeError\u001b[0m: 'tuple' object does not support item assignment"
     ]
    }
   ],
   "source": [
    "myTuple[1]=False"
   ]
  },
  {
   "cell_type": "markdown",
   "metadata": {
    "button": false,
    "new_sheet": false,
    "run_control": {
     "read_only": false
    }
   },
   "source": [
    "### 4. Set"
   ]
  },
  {
   "cell_type": "markdown",
   "metadata": {
    "button": false,
    "new_sheet": false,
    "run_control": {
     "read_only": false
    }
   },
   "source": [
    "**A set is an unordered collection of zero or more immutable Python data objects. Sets do not allow duplicates and are written as comma-delimited values enclosed in curly braces. The empty set is represented by set(). Sets are heterogeneous, and the collection can be assigned to a variable as below.**"
   ]
  },
  {
   "cell_type": "code",
   "execution_count": 8,
   "metadata": {
    "button": false,
    "new_sheet": false,
    "run_control": {
     "read_only": false
    }
   },
   "outputs": [
    {
     "name": "stdout",
     "output_type": "stream",
     "text": [
      "{False, 3, 4.5, 6, 'cat'}\n",
      "{False, 3, 4.5, 6, 'cat'}\n"
     ]
    }
   ],
   "source": [
    "print({3,6,\"cat\",4.5,False})\n",
    "mySet = {3,6,\"cat\",4.5,False}\n",
    "print(mySet)"
   ]
  },
  {
   "cell_type": "markdown",
   "metadata": {
    "button": false,
    "new_sheet": false,
    "run_control": {
     "read_only": false
    }
   },
   "source": [
    "| **Operation Name** | **Operator** | **Explanation** |\n",
    "| --- | --- | --- |\n",
    "| membership | in | Set membership |\n",
    "| length | len | Returns the cardinality of the set |\n",
    "| &#124; | aset &#124; otherset | Returns a new set with all elements from both sets |\n",
    "| ` & ` | ` aset & otherset ` | Returns a new set with only those elements common to both sets |\n",
    "| ` - ` | ` aset - otherset ` | Returns a new set with all items from the first set not in second |\n",
    "| ` <= ` | ` aset <= otherset ` | Asks whether all elements of the first set are in the second |"
   ]
  },
  {
   "cell_type": "markdown",
   "metadata": {
    "button": false,
    "new_sheet": false,
    "run_control": {
     "read_only": false
    }
   },
   "source": [
    "| **Method Name** | **Use** | **Explanation** |\n",
    "| --- | --- | --- |\n",
    "| ` union ` | ` aset.union(otherset) ` | Returns a new set with all elements from both sets |\n",
    "| ` intersection ` | ` aset.intersection(otherset) ` | Returns a new set with only those elements common to both sets |\n",
    "| ` difference ` | ` aset.difference(otherset) ` | Returns a new set with all items from first set not in second |\n",
    "| ` issubset ` | ` aset.issubset(otherset) ` | Asks whether all elements of one set are in the other |\n",
    "| ` add ` | ` aset.add(item) ` | Adds item to the set |\n",
    "| ` remove ` | ` aset.remove(item) ` | Removes item from the set |\n",
    "| ` pop ` | ` aset.pop() ` | Removes an arbitrary element from the set |\n",
    "| ` clear ` | ` aset.clear() ` | Removes all elements from the set |"
   ]
  },
  {
   "cell_type": "code",
   "execution_count": 9,
   "metadata": {
    "button": false,
    "new_sheet": false,
    "run_control": {
     "read_only": false
    }
   },
   "outputs": [
    {
     "name": "stdout",
     "output_type": "stream",
     "text": [
      "{False, 3, 4.5, 6, 'cat'}\n",
      "{3, 99, 100}\n",
      "{False, 3, 4.5, 99, 6, 100, 'cat'}\n",
      "{False, 3, 4.5, 99, 6, 100, 'cat'}\n",
      "{3}\n",
      "{3}\n",
      "{False, 'cat', 4.5, 6}\n",
      "{False, 'cat', 4.5, 6}\n",
      "True\n",
      "True\n",
      "{False, 3, 4.5, 6, 'house', 'cat'}\n",
      "{False, 3, 6, 'house', 'cat'}\n",
      "{3, 6, 'house', 'cat'}\n",
      "set()\n"
     ]
    }
   ],
   "source": [
    "mySet = {3,6,\"cat\",4.5,False}\n",
    "print(mySet)\n",
    "yourSet = {99,3,100}\n",
    "print(yourSet)\n",
    "\n",
    "print( mySet.union(yourSet))\n",
    "print( mySet | yourSet)\n",
    "\n",
    "print( mySet.intersection(yourSet))\n",
    "print( mySet & yourSet)\n",
    "\n",
    "print( mySet.difference(yourSet))\n",
    "print( mySet - yourSet)\n",
    "\n",
    "print( {3,100}.issubset(yourSet))\n",
    "print( {3,100}<=yourSet)\n",
    "\n",
    "mySet.add(\"house\")\n",
    "print( mySet)\n",
    "\n",
    "mySet.remove(4.5)\n",
    "print( mySet)\n",
    "\n",
    "mySet.pop()\n",
    "print( mySet)\n",
    "\n",
    "mySet.clear()\n",
    "print( mySet)"
   ]
  },
  {
   "cell_type": "markdown",
   "metadata": {
    "button": false,
    "new_sheet": false,
    "run_control": {
     "read_only": false
    }
   },
   "source": [
    "### 5. Dictionary"
   ]
  },
  {
   "cell_type": "markdown",
   "metadata": {
    "button": false,
    "new_sheet": false,
    "run_control": {
     "read_only": false
    }
   },
   "source": [
    "**Dictionaries are collections of associated pairs of items where each pair consists of a key and a value. This key-value pair is typically written as key:value. Dictionaries are written as comma-delimited key:value pairs enclosed in curly braces. For example,**"
   ]
  },
  {
   "cell_type": "code",
   "execution_count": 10,
   "metadata": {
    "button": false,
    "new_sheet": false,
    "run_control": {
     "read_only": false
    }
   },
   "outputs": [
    {
     "name": "stdout",
     "output_type": "stream",
     "text": [
      "{'Iowa': 'DesMoines', 'Wisconsin': 'Madison'}\n",
      "DesMoines\n",
      "{'Iowa': 'DesMoines', 'Wisconsin': 'Madison', 'Utah': 'SaltLakeCity'}\n",
      "4\n",
      "DesMoines  is the capital of  Iowa\n",
      "Madison  is the capital of  Wisconsin\n",
      "SaltLakeCity  is the capital of  Utah\n",
      "Sacramento  is the capital of  California\n"
     ]
    }
   ],
   "source": [
    "capitals = {'Iowa':'DesMoines','Wisconsin':'Madison'}\n",
    "print(capitals)\n",
    "print(capitals['Iowa'])\n",
    "capitals['Utah']='SaltLakeCity'\n",
    "print(capitals)\n",
    "capitals['California']='Sacramento'\n",
    "print(len(capitals))\n",
    "for k in capitals:\n",
    "   print(capitals[k],\" is the capital of \", k)"
   ]
  },
  {
   "cell_type": "markdown",
   "metadata": {
    "button": false,
    "new_sheet": false,
    "run_control": {
     "read_only": false
    }
   },
   "source": [
    "| **Operator** | **Use** | **Explanation** |\n",
    "| --- | --- | --- |\n",
    "| ` [] ` | ` myDict[k] ` | Returns the value associated with ` k `, otherwise its an error |\n",
    "| ` in ` | ` key in adict ` | Returns ` True ` if key is in the dictionary, ` False ` otherwise |\n",
    "| ` del ` | del ` adict[key] ` | Removes the entry from the dictionary |\n"
   ]
  },
  {
   "cell_type": "markdown",
   "metadata": {
    "button": false,
    "new_sheet": false,
    "run_control": {
     "read_only": false
    }
   },
   "source": [
    "| **Method Name** | **Use** | **Explanation** |\n",
    "| --- | --- | --- |\n",
    "| ` keys ` | ` adict.keys() ` | Returns the keys of the dictionary in a dict_keys object |\n",
    "| ` values ` | ` adict.values() ` | Returns the values of the dictionary in a dict_values object |\n",
    "| ` items ` | ` adict.items() ` | Returns the key-value pairs in a dict_items object |\n",
    "| ` get ` | ` adict.get(k) ` | Returns the value associated with ` k `, ` None ` otherwise |\n",
    "| ` get ` | ` adict.get(k,alt) ` | Returns the value associated with ` k `, ` alt ` otherwise |"
   ]
  },
  {
   "cell_type": "code",
   "execution_count": 11,
   "metadata": {
    "button": false,
    "new_sheet": false,
    "run_control": {
     "read_only": false
    }
   },
   "outputs": [
    {
     "name": "stdout",
     "output_type": "stream",
     "text": [
      "{'david': 1410, 'brad': 1137}\n",
      "dict_keys(['david', 'brad'])\n",
      "['david', 'brad']\n",
      "dict_values([1410, 1137])\n",
      "[1410, 1137]\n",
      "dict_items([('david', 1410), ('brad', 1137)])\n",
      "[('david', 1410), ('brad', 1137)]\n",
      "None\n",
      "NO ENTRY\n"
     ]
    }
   ],
   "source": [
    "phoneext={'david':1410,'brad':1137}\n",
    "print(phoneext)\n",
    "print(phoneext.keys())\n",
    "print(list(phoneext.keys()))\n",
    "print(phoneext.values())\n",
    "print(list(phoneext.values()))\n",
    "print(phoneext.items())\n",
    "print(list(phoneext.items()))\n",
    "print(phoneext.get(\"kent\"))\n",
    "print(phoneext.get(\"kent\",\"NO ENTRY\"))\n"
   ]
  },
  {
   "cell_type": "markdown",
   "metadata": {
    "button": false,
    "new_sheet": false,
    "run_control": {
     "read_only": false
    }
   },
   "source": [
    "## 1.9. Input and Output"
   ]
  },
  {
   "cell_type": "code",
   "execution_count": 12,
   "metadata": {
    "button": false,
    "new_sheet": false,
    "run_control": {
     "read_only": false
    }
   },
   "outputs": [
    {
     "name": "stdout",
     "output_type": "stream",
     "text": [
      "Please enter your name \n",
      "Your name in all capitals is  and has length 0\n"
     ]
    }
   ],
   "source": [
    "aName = input(\"Please enter your name \")\n",
    "print(\"Your name in all capitals is\",aName.upper(),\n",
    "      \"and has length\", len(aName))"
   ]
  },
  {
   "cell_type": "code",
   "execution_count": 13,
   "metadata": {
    "button": false,
    "new_sheet": false,
    "run_control": {
     "read_only": false
    }
   },
   "outputs": [
    {
     "name": "stdout",
     "output_type": "stream",
     "text": [
      "Please enter the radius of the circle \n"
     ]
    },
    {
     "ename": "ValueError",
     "evalue": "could not convert string to float: ",
     "output_type": "error",
     "traceback": [
      "\u001b[0;31m---------------------------------------------------------------------------\u001b[0m",
      "\u001b[0;31mValueError\u001b[0m                                Traceback (most recent call last)",
      "\u001b[0;32m<ipython-input-13-21781b49943e>\u001b[0m in \u001b[0;36m<module>\u001b[0;34m()\u001b[0m\n\u001b[1;32m      1\u001b[0m \u001b[0msradius\u001b[0m \u001b[0;34m=\u001b[0m \u001b[0minput\u001b[0m\u001b[0;34m(\u001b[0m\u001b[0;34m\"Please enter the radius of the circle \"\u001b[0m\u001b[0;34m)\u001b[0m\u001b[0;34m\u001b[0m\u001b[0m\n\u001b[0;32m----> 2\u001b[0;31m \u001b[0mradius\u001b[0m \u001b[0;34m=\u001b[0m \u001b[0mfloat\u001b[0m\u001b[0;34m(\u001b[0m\u001b[0msradius\u001b[0m\u001b[0;34m)\u001b[0m\u001b[0;34m\u001b[0m\u001b[0m\n\u001b[0m\u001b[1;32m      3\u001b[0m \u001b[0mdiameter\u001b[0m \u001b[0;34m=\u001b[0m \u001b[0;36m2\u001b[0m \u001b[0;34m*\u001b[0m \u001b[0mradius\u001b[0m\u001b[0;34m\u001b[0m\u001b[0m\n\u001b[1;32m      4\u001b[0m \u001b[0mprint\u001b[0m\u001b[0;34m(\u001b[0m\u001b[0mdiameter\u001b[0m\u001b[0;34m)\u001b[0m\u001b[0;34m\u001b[0m\u001b[0m\n",
      "\u001b[0;31mValueError\u001b[0m: could not convert string to float: "
     ]
    }
   ],
   "source": [
    "sradius = input(\"Please enter the radius of the circle \")\n",
    "radius = float(sradius)\n",
    "diameter = 2 * radius\n",
    "print(diameter)"
   ]
  },
  {
   "cell_type": "markdown",
   "metadata": {
    "button": false,
    "new_sheet": false,
    "run_control": {
     "read_only": false
    }
   },
   "source": [
    "### 1.9.1. String Formatting"
   ]
  },
  {
   "cell_type": "code",
   "execution_count": 14,
   "metadata": {
    "button": false,
    "new_sheet": false,
    "run_control": {
     "read_only": false
    }
   },
   "outputs": [
    {
     "name": "stdout",
     "output_type": "stream",
     "text": [
      "Hello World\n",
      "Hello***World\n",
      "Hello World***"
     ]
    }
   ],
   "source": [
    "print(\"Hello\",\"World\")\n",
    "print(\"Hello\",\"World\", sep=\"***\")\n",
    "print(\"Hello\",\"World\", end=\"***\")"
   ]
  },
  {
   "cell_type": "code",
   "execution_count": 15,
   "metadata": {
    "button": false,
    "new_sheet": false,
    "run_control": {
     "read_only": false
    }
   },
   "outputs": [
    {
     "name": "stdout",
     "output_type": "stream",
     "text": [
      "Anas is 10 years old.\n",
      "Anas is 10 years old.\n"
     ]
    }
   ],
   "source": [
    "aName = \"Anas\"\n",
    "age = 10\n",
    "print(aName, \"is\", age, \"years old.\")\n",
    "print(\"%s is %d years old.\" % (aName, age)) \n",
    "# The % operator is a string operator called the format operator."
   ]
  },
  {
   "cell_type": "markdown",
   "metadata": {
    "button": false,
    "new_sheet": false,
    "run_control": {
     "read_only": false
    }
   },
   "source": [
    "| **Character** | **Output Format** |\n",
    "| --- | --- |\n",
    "| ` d `, ` i ` | Integer |\n",
    "| ` u ` | Unsigned integer |\n",
    "| ` f ` | Floating point as m.ddddd |\n",
    "| ` e ` | Floating point as m.ddddde+/-xx |\n",
    "| ` E ` | Floating point as m.dddddE+/-xx |\n",
    "| ` g ` | Use ` %e ` for exponents less than <span class=\"math\"><span class=\"MathJax_Preview\" style=\"color: inherit; display: none;\"> <span class=\"MathJax\" id=\"MathJax-Element-1-Frame\" tabindex=\"0\" data-mathml=\"<math xmlns=&quot;http://www.w3.org/1998/Math/MathML&quot;><nobr aria-hidden=\"true\"><span class=\"math\" id=\"MathJax-Span-1\" style=\"width: 1.432em; display: inline-block;\"><span style=\"display: inline-block; position: relative; width: 1.193em; height: 0px; font-size: 120%;\"><span style=\"position: absolute; clip: rect(1.729em 1001.19em 2.86em -999.997em); top: -2.557em; left: 0em;\"><span class=\"mrow\" id=\"MathJax-Span-2\"><span class=\"mo\" id=\"MathJax-Span-3\" style=\"font-family: STIXGeneral-Regular;\">− <span class=\"mn\" id=\"MathJax-Span-4\" style=\"font-family: STIXGeneral-Regular;\">4 <span style=\"display: inline-block; width: 0px; height: 2.562em;\"> <span style=\"display: inline-block; overflow: hidden; vertical-align: -0.211em; border-left: 0px solid; width: 0px; height: 1.146em;\"> </nobr><span class=\"MJX_Assistive_MathML\" role=\"presentation\"><math xmlns=\"http://www.w3.org/1998/Math/MathML\"><mo>−</mo><mn>4</mn></math> <mo>&amp;#x2212;</mo><mn>4</mn></math>\" role=\"presentation\" style=\"position: relative;\"> <script type=\"math/tex\" id=\"MathJax-Element-1\">-4</script> or greater than <span class=\"math\"><span class=\"MathJax_Preview\" style=\"color: inherit; display: none;\"> <span class=\"MathJax\" id=\"MathJax-Element-2-Frame\" tabindex=\"0\" data-mathml=\"<math xmlns=&quot;http://www.w3.org/1998/Math/MathML&quot;><nobr aria-hidden=\"true\"><span class=\"math\" id=\"MathJax-Span-5\" style=\"width: 1.432em; display: inline-block;\"><span style=\"display: inline-block; position: relative; width: 1.193em; height: 0px; font-size: 120%;\"><span style=\"position: absolute; clip: rect(1.67em 1001.13em 2.801em -999.997em); top: -2.557em; left: 0em;\"><span class=\"mrow\" id=\"MathJax-Span-6\"><span class=\"mo\" id=\"MathJax-Span-7\" style=\"font-family: STIXGeneral-Regular;\">+ <span class=\"mn\" id=\"MathJax-Span-8\" style=\"font-family: STIXGeneral-Regular;\">5 <span style=\"display: inline-block; width: 0px; height: 2.562em;\"> <span style=\"display: inline-block; overflow: hidden; vertical-align: -0.139em; border-left: 0px solid; width: 0px; height: 1.004em;\"> </nobr><span class=\"MJX_Assistive_MathML\" role=\"presentation\"><math xmlns=\"http://www.w3.org/1998/Math/MathML\"><mo>+</mo><mn>5</mn></math> <mo>+</mo><mn>5</mn></math>\" role=\"presentation\" style=\"position: relative;\"> <script type=\"math/tex\" id=\"MathJax-Element-2\">+5</script> , otherwise use ` %f ` |\n",
    "| ` c ` | Single character |\n",
    "| ` s ` | String, or any Python data object that can be converted to a string by using the ` str ` function. |\n",
    "| ` % ` | Insert a literal % character |"
   ]
  },
  {
   "cell_type": "markdown",
   "metadata": {
    "button": false,
    "new_sheet": false,
    "run_control": {
     "read_only": false
    }
   },
   "source": [
    "| **Modifier** | **Example** | **Description** |\n",
    "| --- | --- | --- |\n",
    "| number | ` %20d ` | Put the value in a field width of 20 |\n",
    "| ` - ` | ` %-20d ` | Put the value in a field 20 characters wide, left-justified |\n",
    "| ` + ` | ` %+20d ` | Put the value in a field 20 characters wide, right-justified |\n",
    "| ` 0 ` | ` %020d ` | Put the value in a field 20 characters wide, fill in with leading zeros. |\n",
    "| ` . ` | ` %20.2f ` | Put the value in a field 20 characters wide with 2 characters to the right of the decimal point. |\n",
    "| ` (name) ` | ` %(name)d ` | Get the value from the supplied dictionary using ` name ` as the key. "
   ]
  },
  {
   "cell_type": "code",
   "execution_count": 16,
   "metadata": {
    "button": false,
    "new_sheet": false,
    "run_control": {
     "read_only": false
    }
   },
   "outputs": [
    {
     "name": "stdout",
     "output_type": "stream",
     "text": [
      "The banana costs 24 cents\n",
      "The     banana costs 24.00 cents\n",
      "The     banana costs      24.00 cents\n",
      "The     banana costs 0000024.00 cents\n",
      "The banana costs    24.0 cents\n"
     ]
    }
   ],
   "source": [
    "price = 24\n",
    "item = \"banana\"\n",
    "print(\"The %s costs %d cents\" % (item, price))\n",
    "print(\"The %+10s costs %5.2f cents\" % (item, price))\n",
    "print(\"The %+10s costs %10.2f cents\" % (item, price))\n",
    "print(\"The %+10s costs %010.2f cents\" % (item, price))\n",
    "itemdict = {\"item\":\"banana\",\"cost\":24}\n",
    "print(\"The %(item)s costs %(cost)7.1f cents\" % itemdict)\n"
   ]
  },
  {
   "cell_type": "markdown",
   "metadata": {
    "button": false,
    "new_sheet": false,
    "run_control": {
     "read_only": false
    }
   },
   "source": [
    "## 1.10. Control Structures"
   ]
  },
  {
   "cell_type": "markdown",
   "metadata": {
    "button": false,
    "new_sheet": false,
    "run_control": {
     "read_only": false
    }
   },
   "source": [
    "** algorithms require two important control structures: iteration and selection. **"
   ]
  },
  {
   "cell_type": "markdown",
   "metadata": {
    "button": false,
    "new_sheet": false,
    "run_control": {
     "read_only": false
    }
   },
   "source": [
    "#### - Iteration \n",
    "#### 1. While"
   ]
  },
  {
   "cell_type": "code",
   "execution_count": 17,
   "metadata": {
    "button": false,
    "new_sheet": false,
    "run_control": {
     "read_only": false
    }
   },
   "outputs": [
    {
     "name": "stdout",
     "output_type": "stream",
     "text": [
      "Hello, world\n",
      "Hello, world\n",
      "Hello, world\n",
      "Hello, world\n",
      "Hello, world\n"
     ]
    }
   ],
   "source": [
    "counter = 1\n",
    "while counter <= 5:\n",
    "   print(\"Hello, world\")\n",
    "   counter = counter + 1"
   ]
  },
  {
   "cell_type": "markdown",
   "metadata": {
    "button": false,
    "new_sheet": false,
    "run_control": {
     "read_only": false
    }
   },
   "source": [
    "#### 2. for"
   ]
  },
  {
   "cell_type": "code",
   "execution_count": 18,
   "metadata": {
    "button": false,
    "new_sheet": false,
    "run_control": {
     "read_only": false
    }
   },
   "outputs": [
    {
     "name": "stdout",
     "output_type": "stream",
     "text": [
      "1\n",
      "3\n",
      "6\n",
      "2\n",
      "5\n"
     ]
    }
   ],
   "source": [
    "for item in [1,3,6,2,5]:\n",
    "    print(item)"
   ]
  },
  {
   "cell_type": "code",
   "execution_count": 19,
   "metadata": {
    "button": false,
    "new_sheet": false,
    "run_control": {
     "read_only": false
    }
   },
   "outputs": [
    {
     "name": "stdout",
     "output_type": "stream",
     "text": [
      "0\n",
      "1\n",
      "4\n",
      "9\n",
      "16\n"
     ]
    }
   ],
   "source": [
    "for item in range(5):\n",
    "...    print(item**2)"
   ]
  },
  {
   "cell_type": "code",
   "execution_count": 20,
   "metadata": {
    "button": false,
    "new_sheet": false,
    "run_control": {
     "read_only": false
    }
   },
   "outputs": [
    {
     "name": "stdout",
     "output_type": "stream",
     "text": [
      "['c', 'a', 't', 'd', 'o', 'g', 'r', 'b', 'i']\n"
     ]
    }
   ],
   "source": [
    "wordlist = ['cat','dog','rabbit']\n",
    "letterlist = [ ]\n",
    "for aword in wordlist:\n",
    "    for aletter in aword:\n",
    "        if(aletter not in letterlist):\n",
    "            letterlist.append(aletter)\n",
    "print(letterlist)"
   ]
  },
  {
   "cell_type": "markdown",
   "metadata": {
    "button": false,
    "new_sheet": false,
    "run_control": {
     "read_only": false
    }
   },
   "source": [
    "### list comprehension"
   ]
  },
  {
   "cell_type": "code",
   "execution_count": 21,
   "metadata": {
    "button": false,
    "new_sheet": false,
    "run_control": {
     "read_only": false
    }
   },
   "outputs": [
    {
     "name": "stdout",
     "output_type": "stream",
     "text": [
      "[1, 4, 9, 16, 25, 36, 49, 64, 81, 100]\n",
      "[1, 4, 9, 16, 25, 36, 49, 64, 81, 100]\n"
     ]
    }
   ],
   "source": [
    "sqlist=[]\n",
    "for x in range(1,11):\n",
    "         sqlist.append(x*x)\n",
    "print(sqlist)        \n",
    "\n",
    "sqlist2=[x*x for x in range(1,11)] # list comprehension\n",
    "print(sqlist2)"
   ]
  },
  {
   "cell_type": "code",
   "execution_count": 22,
   "metadata": {
    "button": false,
    "new_sheet": false,
    "run_control": {
     "read_only": false
    }
   },
   "outputs": [
    {
     "name": "stdout",
     "output_type": "stream",
     "text": [
      "[1, 9, 25, 49, 81]\n"
     ]
    }
   ],
   "source": [
    "sqlist=[x*x for x in range(1,11) if x%2 != 0]\n",
    "print(sqlist)"
   ]
  },
  {
   "cell_type": "code",
   "execution_count": 23,
   "metadata": {
    "button": false,
    "new_sheet": false,
    "run_control": {
     "read_only": false
    }
   },
   "outputs": [
    {
     "data": {
      "text/plain": [
       "['C', 'M', 'P', 'R', 'H', 'N', 'S', 'N']"
      ]
     },
     "execution_count": 23,
     "metadata": {},
     "output_type": "execute_result"
    }
   ],
   "source": [
    "[ch.upper() for ch in 'comprehension' if ch not in 'aeiou']"
   ]
  },
  {
   "cell_type": "code",
   "execution_count": 24,
   "metadata": {
    "button": false,
    "new_sheet": false,
    "run_control": {
     "read_only": false
    }
   },
   "outputs": [
    {
     "name": "stdout",
     "output_type": "stream",
     "text": [
      "['c', 'a', 't', 'd', 'o', 'g', 'r', 'a', 'b', 'b', 'i', 't']\n"
     ]
    }
   ],
   "source": [
    "wordlist = ['cat','dog','rabbit']\n",
    "\n",
    "uniqueLetters = [letter for word in wordlist for letter in word]\n",
    "print(uniqueLetters)"
   ]
  },
  {
   "cell_type": "markdown",
   "metadata": {
    "button": false,
    "new_sheet": false,
    "run_control": {
     "read_only": false
    }
   },
   "source": [
    "## 1.12. Defining Functions"
   ]
  },
  {
   "cell_type": "markdown",
   "metadata": {
    "button": false,
    "new_sheet": false,
    "run_control": {
     "read_only": false
    }
   },
   "source": [
    "#### problem \n",
    "Here’s a self check that really covers everything so far.\n",
    "\n",
    "You may have heard of the infinite monkey theorem?\n",
    "\n",
    "The theorem states that a monkey hitting keys at random on a typewriter keyboard for an infinite amount of time will almost surely type a given text, such as the complete works of William Shakespeare.\n",
    "\n",
    "Well, suppose we replace a monkey with a Python function. How long do you think it would take for a Python function to generate just one sentence of Shakespeare? The sentence we’ll shoot for is: “methinks it is like a weasel”\n",
    "\n",
    "You’re not going to want to run this one in the browser, so fire up your favorite Python IDE. The way we’ll simulate this is to write a function that generates a string that is 27 characters long by choosing random letters from the 26 letters in the alphabet plus the space. We’ll write another function that will score each generated string by comparing the randomly generated string to the goal.\n",
    "\n",
    "A third function will repeatedly call generate and score, then if 100% of the letters are correct we are done. If the letters are not correct then we will generate a whole new string.To make it easier to follow your program’s progress this third function should print out the best string generated so far and its score every 1000 tries."
   ]
  },
  {
   "cell_type": "code",
   "execution_count": 25,
   "metadata": {
    "button": false,
    "new_sheet": false,
    "run_control": {
     "read_only": false
    }
   },
   "outputs": [
    {
     "name": "stdout",
     "output_type": "stream",
     "text": [
      "--- 0.0005996227264404297 seconds ---\n"
     ]
    }
   ],
   "source": [
    "import string\n",
    "import random\n",
    "import time\n",
    "\n",
    "start_time = time.time()\n",
    "\n",
    "def generate_new_sentense():\n",
    "    sentense = [random.choice(string.ascii_lowercase + \" \") for x in range(28) ]\n",
    "    return \"\".join(sentense)\n",
    "\n",
    "def compare_sentences(guess):\n",
    "    target_sentence = \"methinks it is like a weasel\"\n",
    "    return guess == target_sentence\n",
    "\n",
    "def main():\n",
    "    i= 0\n",
    "    print (i)\n",
    "    guess = generate_new_sentense()\n",
    "    print (guess)\n",
    "    while not compare_sentences(guess):\n",
    "        guess = generate_new_sentense()\n",
    "        print (guess)\n",
    "        i+= 1\n",
    "        print (i)\n",
    "# main()\n",
    "\n",
    "print(\"--- %s seconds ---\" % (time.time() - start_time))"
   ]
  },
  {
   "cell_type": "markdown",
   "metadata": {
    "button": false,
    "new_sheet": false,
    "run_control": {
     "read_only": false
    }
   },
   "source": [
    "## 1.13. Object-Oriented Programming in Python: Defining Classes"
   ]
  },
  {
   "cell_type": "markdown",
   "metadata": {
    "button": false,
    "new_sheet": false,
    "run_control": {
     "read_only": false
    }
   },
   "source": [
    "### 1.13.1. A Fraction Class"
   ]
  },
  {
   "cell_type": "code",
   "execution_count": 26,
   "metadata": {
    "button": false,
    "new_sheet": false,
    "run_control": {
     "read_only": false
    }
   },
   "outputs": [
    {
     "name": "stdout",
     "output_type": "stream",
     "text": [
      "3/5\n",
      "3 / 5\n",
      "None\n",
      "6/8\n"
     ]
    }
   ],
   "source": [
    "class Fraction:\n",
    "    \n",
    "    def __init__(self, top, bottom):\n",
    "        self.num = top\n",
    "        self.den = bottom\n",
    "\n",
    "    def show(self):\n",
    "     print(self.num,\"/\",self.den)\n",
    "    \n",
    "    # Overriding the default __str__ function\n",
    "    def __str__(self):\n",
    "        return str(self.num)+\"/\"+str(self.den)\n",
    "    \n",
    "    def __add__(self,otherfraction):\n",
    "     newnum = self.num * otherfraction.den + self.den * otherfraction.num\n",
    "     newden = self.den * otherfraction.den\n",
    "     return Fraction(newnum,newden)\n",
    "        \n",
    "myfraction = Fraction(3,5)\n",
    "print(myfraction)\n",
    "print(myfraction.show())\n",
    "f1 = Fraction(1,4)\n",
    "f2 = Fraction(1,2)\n",
    "f3 = f1 + f2\n",
    "print(f3)\n",
    "    "
   ]
  },
  {
   "cell_type": "code",
   "execution_count": null,
   "metadata": {
    "collapsed": true
   },
   "outputs": [],
   "source": []
  }
 ],
 "metadata": {
  "kernelspec": {
   "display_name": "Python 3",
   "language": "python",
   "name": "python3"
  },
  "language_info": {
   "codemirror_mode": {
    "name": "ipython",
    "version": 3
   },
   "file_extension": ".py",
   "mimetype": "text/x-python",
   "name": "python",
   "nbconvert_exporter": "python",
   "pygments_lexer": "ipython3",
   "version": "3.6.0"
  }
 },
 "nbformat": 4,
 "nbformat_minor": 1
}
